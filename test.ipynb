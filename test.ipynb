{
 "cells": [
  {
   "cell_type": "code",
   "execution_count": 1,
   "id": "ab08ef06",
   "metadata": {},
   "outputs": [
    {
     "name": "stdout",
     "output_type": "stream",
     "text": [
      "Requirement already satisfied: gspread in c:\\users\\lg\\anaconda3\\envs\\domain_generalization\\lib\\site-packages (6.2.1)\n",
      "Requirement already satisfied: google-auth>=1.12.0 in c:\\users\\lg\\anaconda3\\envs\\domain_generalization\\lib\\site-packages (from gspread) (2.40.3)\n",
      "Requirement already satisfied: google-auth-oauthlib>=0.4.1 in c:\\users\\lg\\anaconda3\\envs\\domain_generalization\\lib\\site-packages (from gspread) (1.2.2)\n",
      "Requirement already satisfied: cachetools<6.0,>=2.0.0 in c:\\users\\lg\\anaconda3\\envs\\domain_generalization\\lib\\site-packages (from google-auth>=1.12.0->gspread) (5.5.2)\n",
      "Requirement already satisfied: pyasn1-modules>=0.2.1 in c:\\users\\lg\\anaconda3\\envs\\domain_generalization\\lib\\site-packages (from google-auth>=1.12.0->gspread) (0.4.2)\n",
      "Requirement already satisfied: rsa<5,>=3.1.4 in c:\\users\\lg\\anaconda3\\envs\\domain_generalization\\lib\\site-packages (from google-auth>=1.12.0->gspread) (4.9.1)\n",
      "Requirement already satisfied: requests-oauthlib>=0.7.0 in c:\\users\\lg\\anaconda3\\envs\\domain_generalization\\lib\\site-packages (from google-auth-oauthlib>=0.4.1->gspread) (2.0.0)\n",
      "Requirement already satisfied: pyasn1<0.7.0,>=0.6.1 in c:\\users\\lg\\anaconda3\\envs\\domain_generalization\\lib\\site-packages (from pyasn1-modules>=0.2.1->google-auth>=1.12.0->gspread) (0.6.1)\n",
      "Requirement already satisfied: oauthlib>=3.0.0 in c:\\users\\lg\\anaconda3\\envs\\domain_generalization\\lib\\site-packages (from requests-oauthlib>=0.7.0->google-auth-oauthlib>=0.4.1->gspread) (3.3.1)\n",
      "Requirement already satisfied: requests>=2.0.0 in c:\\users\\lg\\anaconda3\\envs\\domain_generalization\\lib\\site-packages (from requests-oauthlib>=0.7.0->google-auth-oauthlib>=0.4.1->gspread) (2.32.3)\n",
      "Requirement already satisfied: charset-normalizer<4,>=2 in c:\\users\\lg\\anaconda3\\envs\\domain_generalization\\lib\\site-packages (from requests>=2.0.0->requests-oauthlib>=0.7.0->google-auth-oauthlib>=0.4.1->gspread) (3.4.1)\n",
      "Requirement already satisfied: idna<4,>=2.5 in c:\\users\\lg\\anaconda3\\envs\\domain_generalization\\lib\\site-packages (from requests>=2.0.0->requests-oauthlib>=0.7.0->google-auth-oauthlib>=0.4.1->gspread) (3.10)\n",
      "Requirement already satisfied: urllib3<3,>=1.21.1 in c:\\users\\lg\\anaconda3\\envs\\domain_generalization\\lib\\site-packages (from requests>=2.0.0->requests-oauthlib>=0.7.0->google-auth-oauthlib>=0.4.1->gspread) (2.3.0)\n",
      "Requirement already satisfied: certifi>=2017.4.17 in c:\\users\\lg\\anaconda3\\envs\\domain_generalization\\lib\\site-packages (from requests>=2.0.0->requests-oauthlib>=0.7.0->google-auth-oauthlib>=0.4.1->gspread) (2025.1.31)\n",
      "Note: you may need to restart the kernel to use updated packages.\n"
     ]
    }
   ],
   "source": [
    "%pip install gspread"
   ]
  },
  {
   "cell_type": "code",
   "execution_count": null,
   "id": "526ee30f",
   "metadata": {},
   "outputs": [
    {
     "data": {
      "text/plain": [
       "{'spreadsheetId': '1iJE6kUeLJ6nXi8ptCBm1wViBAAmVCqkOoOPrv2adIec',\n",
       " 'updatedRange': \"'시트1'!A1\",\n",
       " 'updatedRows': 1,\n",
       " 'updatedColumns': 1,\n",
       " 'updatedCells': 1}"
      ]
     },
     "execution_count": 5,
     "metadata": {},
     "output_type": "execute_result"
    }
   ],
   "source": [
    "#\"F:\\kaist\\4\\sci\\domaingeneralization-6927a242343d.json\"\n",
    "import gspread\n",
    "\n",
    "# json 파일이 위치한 경로를 값으로 줘야 합니다.\n",
    "json_file_path = \"##\"\n",
    "gc = gspread.service_account(json_file_path)\n",
    "spreadsheet_url = \"##\"\n",
    "doc = gc.open_by_url(spreadsheet_url)\n",
    "\n",
    "worksheet = doc.worksheet(\"시트1\")\n",
    "worksheet.update_acell('a1','자동화 끝!')"
   ]
  },
  {
   "cell_type": "code",
   "execution_count": null,
   "id": "3858a2e3",
   "metadata": {},
   "outputs": [],
   "source": []
  }
 ],
 "metadata": {
  "kernelspec": {
   "display_name": "domain_generalization",
   "language": "python",
   "name": "python3"
  },
  "language_info": {
   "codemirror_mode": {
    "name": "ipython",
    "version": 3
   },
   "file_extension": ".py",
   "mimetype": "text/x-python",
   "name": "python",
   "nbconvert_exporter": "python",
   "pygments_lexer": "ipython3",
   "version": "3.9.21"
  }
 },
 "nbformat": 4,
 "nbformat_minor": 5
}
