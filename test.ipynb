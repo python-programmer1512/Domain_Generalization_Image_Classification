{
 "cells": [
  {
   "cell_type": "code",
   "execution_count": 1,
   "id": "ab08ef06",
   "metadata": {},
   "outputs": [
    {
     "name": "stdout",
     "output_type": "stream",
     "text": [
      "Requirement already satisfied: gspread in c:\\users\\lg\\anaconda3\\envs\\domain_generalization\\lib\\site-packages (6.2.1)\n",
      "Requirement already satisfied: google-auth>=1.12.0 in c:\\users\\lg\\anaconda3\\envs\\domain_generalization\\lib\\site-packages (from gspread) (2.40.3)\n",
      "Requirement already satisfied: google-auth-oauthlib>=0.4.1 in c:\\users\\lg\\anaconda3\\envs\\domain_generalization\\lib\\site-packages (from gspread) (1.2.2)\n",
      "Requirement already satisfied: cachetools<6.0,>=2.0.0 in c:\\users\\lg\\anaconda3\\envs\\domain_generalization\\lib\\site-packages (from google-auth>=1.12.0->gspread) (5.5.2)\n",
      "Requirement already satisfied: pyasn1-modules>=0.2.1 in c:\\users\\lg\\anaconda3\\envs\\domain_generalization\\lib\\site-packages (from google-auth>=1.12.0->gspread) (0.4.2)\n",
      "Requirement already satisfied: rsa<5,>=3.1.4 in c:\\users\\lg\\anaconda3\\envs\\domain_generalization\\lib\\site-packages (from google-auth>=1.12.0->gspread) (4.9.1)\n",
      "Requirement already satisfied: requests-oauthlib>=0.7.0 in c:\\users\\lg\\anaconda3\\envs\\domain_generalization\\lib\\site-packages (from google-auth-oauthlib>=0.4.1->gspread) (2.0.0)\n",
      "Requirement already satisfied: pyasn1<0.7.0,>=0.6.1 in c:\\users\\lg\\anaconda3\\envs\\domain_generalization\\lib\\site-packages (from pyasn1-modules>=0.2.1->google-auth>=1.12.0->gspread) (0.6.1)\n",
      "Requirement already satisfied: oauthlib>=3.0.0 in c:\\users\\lg\\anaconda3\\envs\\domain_generalization\\lib\\site-packages (from requests-oauthlib>=0.7.0->google-auth-oauthlib>=0.4.1->gspread) (3.3.1)\n",
      "Requirement already satisfied: requests>=2.0.0 in c:\\users\\lg\\anaconda3\\envs\\domain_generalization\\lib\\site-packages (from requests-oauthlib>=0.7.0->google-auth-oauthlib>=0.4.1->gspread) (2.32.3)\n",
      "Requirement already satisfied: charset-normalizer<4,>=2 in c:\\users\\lg\\anaconda3\\envs\\domain_generalization\\lib\\site-packages (from requests>=2.0.0->requests-oauthlib>=0.7.0->google-auth-oauthlib>=0.4.1->gspread) (3.4.1)\n",
      "Requirement already satisfied: idna<4,>=2.5 in c:\\users\\lg\\anaconda3\\envs\\domain_generalization\\lib\\site-packages (from requests>=2.0.0->requests-oauthlib>=0.7.0->google-auth-oauthlib>=0.4.1->gspread) (3.10)\n",
      "Requirement already satisfied: urllib3<3,>=1.21.1 in c:\\users\\lg\\anaconda3\\envs\\domain_generalization\\lib\\site-packages (from requests>=2.0.0->requests-oauthlib>=0.7.0->google-auth-oauthlib>=0.4.1->gspread) (2.3.0)\n",
      "Requirement already satisfied: certifi>=2017.4.17 in c:\\users\\lg\\anaconda3\\envs\\domain_generalization\\lib\\site-packages (from requests>=2.0.0->requests-oauthlib>=0.7.0->google-auth-oauthlib>=0.4.1->gspread) (2025.1.31)\n",
      "Note: you may need to restart the kernel to use updated packages.\n"
     ]
    }
   ],
   "source": [
    "%pip install gspread"
   ]
  },
  {
   "cell_type": "code",
   "execution_count": null,
   "id": "526ee30f",
   "metadata": {},
   "outputs": [
    {
     "ename": "APIError",
     "evalue": "APIError: [400]: Invalid value at 'data.values' (type.googleapis.com/google.protobuf.ListValue), \"a1\"",
     "output_type": "error",
     "traceback": [
      "\u001b[1;31m---------------------------------------------------------------------------\u001b[0m",
      "\u001b[1;31mAPIError\u001b[0m                                  Traceback (most recent call last)",
      "Cell \u001b[1;32mIn[4], line 11\u001b[0m\n\u001b[0;32m      8\u001b[0m doc \u001b[38;5;241m=\u001b[39m gc\u001b[38;5;241m.\u001b[39mopen_by_url(spreadsheet_url)\n\u001b[0;32m     10\u001b[0m worksheet \u001b[38;5;241m=\u001b[39m doc\u001b[38;5;241m.\u001b[39mworksheet(\u001b[38;5;124m\"\u001b[39m\u001b[38;5;124m시트1\u001b[39m\u001b[38;5;124m\"\u001b[39m)\n\u001b[1;32m---> 11\u001b[0m \u001b[43mworksheet\u001b[49m\u001b[38;5;241;43m.\u001b[39;49m\u001b[43mupdate\u001b[49m\u001b[43m(\u001b[49m\u001b[38;5;124;43m'\u001b[39;49m\u001b[38;5;124;43ma1\u001b[39;49m\u001b[38;5;124;43m'\u001b[39;49m\u001b[43m,\u001b[49m\u001b[38;5;124;43m'\u001b[39;49m\u001b[38;5;124;43m자동화 끝!\u001b[39;49m\u001b[38;5;124;43m'\u001b[39;49m\u001b[43m)\u001b[49m\n",
      "File \u001b[1;32mc:\\Users\\LG\\anaconda3\\envs\\domain_generalization\\lib\\site-packages\\gspread\\worksheet.py:1246\u001b[0m, in \u001b[0;36mWorksheet.update\u001b[1;34m(self, values, range_name, raw, major_dimension, value_input_option, include_values_in_response, response_value_render_option, response_date_time_render_option)\u001b[0m\n\u001b[0;32m   1235\u001b[0m     value_input_option \u001b[38;5;241m=\u001b[39m (\n\u001b[0;32m   1236\u001b[0m         ValueInputOption\u001b[38;5;241m.\u001b[39mraw \u001b[38;5;28;01mif\u001b[39;00m raw \u001b[38;5;129;01mis\u001b[39;00m \u001b[38;5;28;01mTrue\u001b[39;00m \u001b[38;5;28;01melse\u001b[39;00m ValueInputOption\u001b[38;5;241m.\u001b[39muser_entered\n\u001b[0;32m   1237\u001b[0m     )\n\u001b[0;32m   1239\u001b[0m params: ParamsType \u001b[38;5;241m=\u001b[39m {\n\u001b[0;32m   1240\u001b[0m     \u001b[38;5;124m\"\u001b[39m\u001b[38;5;124mvalueInputOption\u001b[39m\u001b[38;5;124m\"\u001b[39m: value_input_option,\n\u001b[0;32m   1241\u001b[0m     \u001b[38;5;124m\"\u001b[39m\u001b[38;5;124mincludeValuesInResponse\u001b[39m\u001b[38;5;124m\"\u001b[39m: include_values_in_response,\n\u001b[0;32m   1242\u001b[0m     \u001b[38;5;124m\"\u001b[39m\u001b[38;5;124mresponseValueRenderOption\u001b[39m\u001b[38;5;124m\"\u001b[39m: response_value_render_option,\n\u001b[0;32m   1243\u001b[0m     \u001b[38;5;124m\"\u001b[39m\u001b[38;5;124mresponseDateTimeRenderOption\u001b[39m\u001b[38;5;124m\"\u001b[39m: response_date_time_render_option,\n\u001b[0;32m   1244\u001b[0m }\n\u001b[1;32m-> 1246\u001b[0m response \u001b[38;5;241m=\u001b[39m \u001b[38;5;28;43mself\u001b[39;49m\u001b[38;5;241;43m.\u001b[39;49m\u001b[43mclient\u001b[49m\u001b[38;5;241;43m.\u001b[39;49m\u001b[43mvalues_update\u001b[49m\u001b[43m(\u001b[49m\n\u001b[0;32m   1247\u001b[0m \u001b[43m    \u001b[49m\u001b[38;5;28;43mself\u001b[39;49m\u001b[38;5;241;43m.\u001b[39;49m\u001b[43mspreadsheet_id\u001b[49m\u001b[43m,\u001b[49m\n\u001b[0;32m   1248\u001b[0m \u001b[43m    \u001b[49m\u001b[43mfull_range_name\u001b[49m\u001b[43m,\u001b[49m\n\u001b[0;32m   1249\u001b[0m \u001b[43m    \u001b[49m\u001b[43mparams\u001b[49m\u001b[38;5;241;43m=\u001b[39;49m\u001b[43mparams\u001b[49m\u001b[43m,\u001b[49m\n\u001b[0;32m   1250\u001b[0m \u001b[43m    \u001b[49m\u001b[43mbody\u001b[49m\u001b[38;5;241;43m=\u001b[39;49m\u001b[43m{\u001b[49m\u001b[38;5;124;43m\"\u001b[39;49m\u001b[38;5;124;43mvalues\u001b[39;49m\u001b[38;5;124;43m\"\u001b[39;49m\u001b[43m:\u001b[49m\u001b[43m \u001b[49m\u001b[43mvalues\u001b[49m\u001b[43m,\u001b[49m\u001b[43m \u001b[49m\u001b[38;5;124;43m\"\u001b[39;49m\u001b[38;5;124;43mmajorDimension\u001b[39;49m\u001b[38;5;124;43m\"\u001b[39;49m\u001b[43m:\u001b[49m\u001b[43m \u001b[49m\u001b[43mmajor_dimension\u001b[49m\u001b[43m}\u001b[49m\u001b[43m,\u001b[49m\n\u001b[0;32m   1251\u001b[0m \u001b[43m\u001b[49m\u001b[43m)\u001b[49m\n\u001b[0;32m   1253\u001b[0m \u001b[38;5;28;01mreturn\u001b[39;00m response\n",
      "File \u001b[1;32mc:\\Users\\LG\\anaconda3\\envs\\domain_generalization\\lib\\site-packages\\gspread\\http_client.py:173\u001b[0m, in \u001b[0;36mHTTPClient.values_update\u001b[1;34m(self, id, range, params, body)\u001b[0m\n\u001b[0;32m    150\u001b[0m \u001b[38;5;250m\u001b[39m\u001b[38;5;124;03m\"\"\"Lower-level method that directly calls `PUT spreadsheets/<ID>/values/<range> <https://developers.google.com/sheets/api/reference/rest/v4/spreadsheets.values/update>`_.\u001b[39;00m\n\u001b[0;32m    151\u001b[0m \n\u001b[0;32m    152\u001b[0m \u001b[38;5;124;03m:param str range: The `A1 notation <https://developers.google.com/sheets/api/guides/concepts#a1_notation>`_ of the values to update.\u001b[39;00m\n\u001b[1;32m   (...)\u001b[0m\n\u001b[0;32m    170\u001b[0m \u001b[38;5;124;03m.. versionadded:: 3.0\u001b[39;00m\n\u001b[0;32m    171\u001b[0m \u001b[38;5;124;03m\"\"\"\u001b[39;00m\n\u001b[0;32m    172\u001b[0m url \u001b[38;5;241m=\u001b[39m SPREADSHEET_VALUES_URL \u001b[38;5;241m%\u001b[39m (\u001b[38;5;28mid\u001b[39m, quote(\u001b[38;5;28mrange\u001b[39m))\n\u001b[1;32m--> 173\u001b[0m r \u001b[38;5;241m=\u001b[39m \u001b[38;5;28;43mself\u001b[39;49m\u001b[38;5;241;43m.\u001b[39;49m\u001b[43mrequest\u001b[49m\u001b[43m(\u001b[49m\u001b[38;5;124;43m\"\u001b[39;49m\u001b[38;5;124;43mput\u001b[39;49m\u001b[38;5;124;43m\"\u001b[39;49m\u001b[43m,\u001b[49m\u001b[43m \u001b[49m\u001b[43murl\u001b[49m\u001b[43m,\u001b[49m\u001b[43m \u001b[49m\u001b[43mparams\u001b[49m\u001b[38;5;241;43m=\u001b[39;49m\u001b[43mparams\u001b[49m\u001b[43m,\u001b[49m\u001b[43m \u001b[49m\u001b[43mjson\u001b[49m\u001b[38;5;241;43m=\u001b[39;49m\u001b[43mbody\u001b[49m\u001b[43m)\u001b[49m\n\u001b[0;32m    174\u001b[0m \u001b[38;5;28;01mreturn\u001b[39;00m r\u001b[38;5;241m.\u001b[39mjson()\n",
      "File \u001b[1;32mc:\\Users\\LG\\anaconda3\\envs\\domain_generalization\\lib\\site-packages\\gspread\\http_client.py:128\u001b[0m, in \u001b[0;36mHTTPClient.request\u001b[1;34m(self, method, endpoint, params, data, json, files, headers)\u001b[0m\n\u001b[0;32m    126\u001b[0m     \u001b[38;5;28;01mreturn\u001b[39;00m response\n\u001b[0;32m    127\u001b[0m \u001b[38;5;28;01melse\u001b[39;00m:\n\u001b[1;32m--> 128\u001b[0m     \u001b[38;5;28;01mraise\u001b[39;00m APIError(response)\n",
      "\u001b[1;31mAPIError\u001b[0m: APIError: [400]: Invalid value at 'data.values' (type.googleapis.com/google.protobuf.ListValue), \"a1\""
     ]
    }
   ],
   "source": [
    "#\"F:\\kaist\\4\\sci\\domaingeneralization-6927a242343d.json\"\n",
    "import gspread\n",
    "\n",
    "# json 파일이 위치한 경로를 값으로 줘야 합니다.\n",
    "json_file_path = \"./domaingeneralization-6927a242343d.json\"\n",
    "gc = gspread.service_account(json_file_path)\n",
    "spreadsheet_url = \"https://docs.google.com/spreadsheets/d/1iJE6kUeLJ6nXi8ptCBm1wViBAAmVCqkOoOPrv2adIec/edit?usp=sharing\"\n",
    "doc = gc.open_by_url(spreadsheet_url)\n",
    "\n",
    "worksheet = doc.worksheet(\"시트1\")\n",
    "worksheet.update_acell('a1','자동화 끝!')"
   ]
  },
  {
   "cell_type": "code",
   "execution_count": null,
   "id": "3858a2e3",
   "metadata": {},
   "outputs": [],
   "source": []
  }
 ],
 "metadata": {
  "kernelspec": {
   "display_name": "domain_generalization",
   "language": "python",
   "name": "python3"
  },
  "language_info": {
   "codemirror_mode": {
    "name": "ipython",
    "version": 3
   },
   "file_extension": ".py",
   "mimetype": "text/x-python",
   "name": "python",
   "nbconvert_exporter": "python",
   "pygments_lexer": "ipython3",
   "version": "3.9.21"
  }
 },
 "nbformat": 4,
 "nbformat_minor": 5
}
